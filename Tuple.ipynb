{
 "cells": [
  {
   "cell_type": "markdown",
   "id": "e360920c-72aa-403a-b15e-ddf959d15a16",
   "metadata": {},
   "source": [
    "# create an empty tuple()"
   ]
  },
  {
   "cell_type": "code",
   "execution_count": 1,
   "id": "1fef034b-a154-4e98-9227-65dbebfba458",
   "metadata": {},
   "outputs": [
    {
     "name": "stdout",
     "output_type": "stream",
     "text": [
      "Empty tuple: ()\n"
     ]
    }
   ],
   "source": [
    "empty_tuple=()\n",
    "print(\"Empty tuple:\",empty_tuple)"
   ]
  },
  {
   "cell_type": "markdown",
   "id": "5bd62e42-5783-43ee-b38e-d7e17ae3e37f",
   "metadata": {},
   "source": [
    "# python Tuple count()"
   ]
  },
  {
   "cell_type": "code",
   "execution_count": 2,
   "id": "5b85ee33-590a-4ec7-a98d-c914ca3be427",
   "metadata": {},
   "outputs": [
    {
     "name": "stdout",
     "output_type": "stream",
     "text": [
      "2\n"
     ]
    }
   ],
   "source": [
    "vowels = ('a','e','i','o','i','u')\n",
    "# counts the number of i s in the tuple\n",
    "count = vowels.count('i')\n",
    "print(count)"
   ]
  },
  {
   "cell_type": "markdown",
   "id": "2cb69ec6-cb02-40e9-9bc7-86f64a7b0696",
   "metadata": {},
   "source": [
    "# python Tuple index "
   ]
  },
  {
   "cell_type": "code",
   "execution_count": 9,
   "id": "c76cf15a-cb8f-473b-b17f-e07a2d7a10ee",
   "metadata": {},
   "outputs": [
    {
     "name": "stdout",
     "output_type": "stream",
     "text": [
      "1\n"
     ]
    }
   ],
   "source": [
    "# tuple containing vowels \n",
    "vowels = ('a','e','i','o','u')\n",
    "# index of 'e' in vowels\n",
    "index = vowels.index('e')\n",
    "print(index)"
   ]
  },
  {
   "cell_type": "markdown",
   "id": "78b1a0e7-51b7-4a9a-82e0-df87eece8303",
   "metadata": {},
   "source": [
    "# python Tuple Length"
   ]
  },
  {
   "cell_type": "code",
   "execution_count": 5,
   "id": "b333a4e6-cd79-45b7-ac55-881e5b7980e9",
   "metadata": {},
   "outputs": [
    {
     "name": "stdout",
     "output_type": "stream",
     "text": [
      "4\n"
     ]
    }
   ],
   "source": [
    "cars = ('BMW','Tesla', 'Ford', 'Toyota')\n",
    "print(len(cars))\n"
   ]
  },
  {
   "cell_type": "markdown",
   "id": "ee7b018e-2081-4258-b0cd-1f1c35d31412",
   "metadata": {},
   "source": [
    "# maximum method touple()"
   ]
  },
  {
   "cell_type": "code",
   "execution_count": 10,
   "id": "f1f45240-9285-4f63-b780-2fd8d5189721",
   "metadata": {},
   "outputs": [
    {
     "name": "stdout",
     "output_type": "stream",
     "text": [
      "20\n"
     ]
    }
   ],
   "source": [
    "my_tuple = (5,6,7,8,9,10,11,12,13,14,15,16,17,18,19,20)\n",
    "print(max(my_tuple))\n"
   ]
  },
  {
   "cell_type": "markdown",
   "id": "d4ad26ee-23b0-4a05-b213-f78a40104543",
   "metadata": {},
   "source": [
    "# sum method tuple()"
   ]
  },
  {
   "cell_type": "code",
   "execution_count": 13,
   "id": "1df07aaa-7b54-47b2-9ff7-77d4ae746bad",
   "metadata": {},
   "outputs": [
    {
     "name": "stdout",
     "output_type": "stream",
     "text": [
      "55\n"
     ]
    }
   ],
   "source": [
    "my_tuple = (1,2,3,4,5,6,7,8,9,10)\n",
    "print(sum(my_tuple))\n"
   ]
  },
  {
   "cell_type": "code",
   "execution_count": null,
   "id": "f9ba9a3d-b799-4660-aef6-15e5b0f0df38",
   "metadata": {},
   "outputs": [],
   "source": []
  },
  {
   "cell_type": "code",
   "execution_count": null,
   "id": "68111c10-8eca-4726-80fe-3f8203ae4631",
   "metadata": {},
   "outputs": [],
   "source": []
  }
 ],
 "metadata": {
  "kernelspec": {
   "display_name": "Python 3 (ipykernel)",
   "language": "python",
   "name": "python3"
  },
  "language_info": {
   "codemirror_mode": {
    "name": "ipython",
    "version": 3
   },
   "file_extension": ".py",
   "mimetype": "text/x-python",
   "name": "python",
   "nbconvert_exporter": "python",
   "pygments_lexer": "ipython3",
   "version": "3.11.7"
  }
 },
 "nbformat": 4,
 "nbformat_minor": 5
}
