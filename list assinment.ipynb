{
 "cells": [
  {
   "cell_type": "markdown",
   "id": "aae82fc7-f962-4170-817e-aabab64b1f50",
   "metadata": {},
   "source": [
    "#   list function method "
   ]
  },
  {
   "cell_type": "markdown",
   "id": "a191b63e-937a-4e6e-b02d-b54439e3055a",
   "metadata": {},
   "source": [
    "# Extend method()"
   ]
  },
  {
   "cell_type": "code",
   "execution_count": 7,
   "id": "a6849a61-db87-4a24-9410-3f994f5fc620",
   "metadata": {},
   "outputs": [
    {
     "name": "stdout",
     "output_type": "stream",
     "text": [
      "[238.11, 237.11, 238.91, 450.55, 551.2]\n"
     ]
    }
   ],
   "source": [
    "\n",
    "\n",
    "prices = [238.11, 237.11, 238.91]\n",
    "prices.extend([450.55, 551.20])\n",
    "print(prices)"
   ]
  },
  {
   "cell_type": "markdown",
   "id": "067d5539-7976-4013-9d2c-69f9a9ff7404",
   "metadata": {},
   "source": [
    "# List maximum function method ()"
   ]
  },
  {
   "cell_type": "code",
   "execution_count": 18,
   "id": "dff69b3c-ac37-4307-aaf4-24190de8f4cf",
   "metadata": {},
   "outputs": [
    {
     "name": "stdout",
     "output_type": "stream",
     "text": [
      "238.91\n"
     ]
    }
   ],
   "source": [
    "\n",
    "prices = [238.11, 237.11, 238.91]\n",
    "prices_max = max(prices)\n",
    "print(price_max)\n",
    "\n"
   ]
  },
  {
   "cell_type": "markdown",
   "id": "75079626-668b-4d42-9888-37e4ee06c9da",
   "metadata": {},
   "source": [
    "# list minimum function method ()"
   ]
  },
  {
   "cell_type": "code",
   "execution_count": 23,
   "id": "a17f47a5-7adb-45ac-8ab1-66865d6c1af3",
   "metadata": {},
   "outputs": [
    {
     "name": "stdout",
     "output_type": "stream",
     "text": [
      "237.11\n"
     ]
    }
   ],
   "source": [
    "# list minimum function method\n",
    "prices = [238.11, 237.11, 238.91]\n",
    "prices_min = min(prices)\n",
    "print(prices_min)\n"
   ]
  },
  {
   "cell_type": "markdown",
   "id": "92ed77cb-453f-47d1-973d-828f9945b992",
   "metadata": {},
   "source": [
    "# change list items ()"
   ]
  },
  {
   "cell_type": "code",
   "execution_count": 3,
   "id": "0fca63b0-08aa-4f90-8b4d-c61fb2083412",
   "metadata": {},
   "outputs": [
    {
     "name": "stdout",
     "output_type": "stream",
     "text": [
      "original List: ['Red', 'Black', 'Green']\n",
      "Updated List: ['Red', 'Black', 'Blue']\n"
     ]
    }
   ],
   "source": [
    "colors = ['Red','Black','Green']\n",
    "print('original List:',colors)\n",
    "# changing the third item to 'Blue'\n",
    "colors[2] = 'Blue'\n",
    "print('Updated List:',colors)"
   ]
  },
  {
   "cell_type": "markdown",
   "id": "cd311576-347b-4471-bb36-1b71f1a2c12c",
   "metadata": {},
   "source": [
    "# Remove an item from a list ()"
   ]
  },
  {
   "cell_type": "code",
   "execution_count": 8,
   "id": "577dcc6f-8644-4244-a43e-78187879a8df",
   "metadata": {},
   "outputs": [
    {
     "name": "stdout",
     "output_type": "stream",
     "text": [
      "[2, 4, 7, 9, 10, 11, 12, 13, 15, 16, 17, 18, 19, 20]\n"
     ]
    }
   ],
   "source": [
    "numbers = [2,4,7, 9,10,11,12,13,14,15,16,17,18,19,20]\n",
    "# remove 4 from the list\n",
    "numbers.remove(14)\n",
    "print(numbers)\n"
   ]
  },
  {
   "cell_type": "markdown",
   "id": "f8af86e4-5c24-4455-820c-80aedc5694c0",
   "metadata": {},
   "source": [
    "# python List length"
   ]
  },
  {
   "cell_type": "code",
   "execution_count": 11,
   "id": "68c4a5ea-6d04-4fad-a86d-4771b51b719c",
   "metadata": {},
   "outputs": [
    {
     "name": "stdout",
     "output_type": "stream",
     "text": [
      "Total Elements : 9\n"
     ]
    }
   ],
   "source": [
    "cars = ['BMW','Mercedes','Tesla','Maruti suzuki', 'Honda city', 'baleno', 'kia sonet', 'alto 800', 'Tata nexon']\n",
    "print('Total Elements :',len(cars))"
   ]
  },
  {
   "cell_type": "markdown",
   "id": "f85758a8-5f07-4921-a520-da9e044e9220",
   "metadata": {},
   "source": [
    "# python list insert()\n"
   ]
  },
  {
   "cell_type": "code",
   "execution_count": 12,
   "id": "7d185d8e-30ec-47c3-ae4c-ce357cf83d09",
   "metadata": {},
   "outputs": [
    {
     "name": "stdout",
     "output_type": "stream",
     "text": [
      "list: ['a', 'e', 'i', 'o', 'u']\n"
     ]
    }
   ],
   "source": [
    "vowel = ['a','e','i','u']\n",
    "# 'o' is inserted at index 3 (4th position)\n",
    "vowel.insert(3,'o')\n",
    "print('list:',vowel)"
   ]
  },
  {
   "cell_type": "markdown",
   "id": "cee9e6db-9130-4c6d-9222-a90558766706",
   "metadata": {},
   "source": [
    "# python List extend()"
   ]
  },
  {
   "cell_type": "code",
   "execution_count": 13,
   "id": "1ceecd90-550e-4add-ac06-9e06f2df341f",
   "metadata": {},
   "outputs": [
    {
     "name": "stdout",
     "output_type": "stream",
     "text": [
      "numbers1 = [3, 4, 5]\n",
      "numbers2 = [10, 20, 3, 4, 5]\n"
     ]
    }
   ],
   "source": [
    "numbers1 = [3,4,5]\n",
    "numbers2 =[10,20]\n",
    "# add the items of numbers1 to the number2 list\n",
    "numbers2.extend(numbers1)\n",
    "print(f\"numbers1 = {numbers1}\")\n",
    "print(f\"numbers2 = {numbers2}\")"
   ]
  },
  {
   "cell_type": "markdown",
   "id": "ca09b0ee-4ed9-4d6e-a530-40086d1c4c9f",
   "metadata": {},
   "source": [
    "# python list clear()"
   ]
  },
  {
   "cell_type": "code",
   "execution_count": 16,
   "id": "735f4c75-adf5-46f9-a428-ebb6dc324072",
   "metadata": {},
   "outputs": [
    {
     "name": "stdout",
     "output_type": "stream",
     "text": [
      "[]\n"
     ]
    }
   ],
   "source": [
    "prime_numbers = [2,3,5,7,9,11]\n",
    "# remove all elements\n",
    "prime_numbers.clear()\n",
    "print(prime_numbers )\n",
    "\n"
   ]
  },
  {
   "cell_type": "markdown",
   "id": "e29592ae-b504-4b33-8f8c-7239cac311c5",
   "metadata": {},
   "source": [
    "# python list copy ()"
   ]
  },
  {
   "cell_type": "code",
   "execution_count": 17,
   "id": "5304264e-0794-411f-b58a-ab6ee0ac808e",
   "metadata": {},
   "outputs": [
    {
     "name": "stdout",
     "output_type": "stream",
     "text": [
      "copied list: [2, 3, 5]\n"
     ]
    }
   ],
   "source": [
    "# mixed list\n",
    "prime_numbers = [2,3,5]\n",
    "# copying a list\n",
    "numbers = prime_numbers.copy()\n",
    "print('copied list:',numbers)"
   ]
  },
  {
   "cell_type": "markdown",
   "id": "c25a3fcd-c847-4c6d-9f63-b76d3b9c8f6d",
   "metadata": {},
   "source": [
    "# python list count()"
   ]
  },
  {
   "cell_type": "code",
   "execution_count": 20,
   "id": "d09937ed-1eee-4b34-990c-ff6ad9bb43f1",
   "metadata": {},
   "outputs": [
    {
     "name": "stdout",
     "output_type": "stream",
     "text": [
      "count of 2: 3\n"
     ]
    }
   ],
   "source": [
    "numbers = [2,3,5,2,11,2,7]\n",
    "# check the count of 2\n",
    "count =numbers.count(2)\n",
    "print('count of 2:',count)\n",
    "\n"
   ]
  },
  {
   "cell_type": "markdown",
   "id": "9ace776f-de0c-43cc-a32a-1b057ae02f6c",
   "metadata": {},
   "source": [
    "# python sort method()"
   ]
  },
  {
   "cell_type": "code",
   "execution_count": 21,
   "id": "3e3dc286-79ed-461c-a338-ebbeceaf51ef",
   "metadata": {},
   "outputs": [
    {
     "name": "stdout",
     "output_type": "stream",
     "text": [
      "[2, 3, 5, 7, 11]\n"
     ]
    }
   ],
   "source": [
    "prime_numbers = [11,3,7,5,2]\n",
    "# sort the list in ascending order\n",
    "prime_numbers.sort()\n",
    "print(prime_numbers)"
   ]
  },
  {
   "cell_type": "markdown",
   "id": "bc9e8a18-fb7e-488e-8fa3-3df71831dc4f",
   "metadata": {},
   "source": [
    "# python list reverse ()"
   ]
  },
  {
   "cell_type": "code",
   "execution_count": 22,
   "id": "1527e08b-0ab9-416a-8ebf-c1e44da2ac24",
   "metadata": {},
   "outputs": [
    {
     "name": "stdout",
     "output_type": "stream",
     "text": [
      "Reversed List: [7, 5, 3, 2]\n"
     ]
    }
   ],
   "source": [
    "# create a list of prime numbers\n",
    "prime_numbers = [2,3,5,7]\n",
    "# reverse the order of list elements\n",
    "prime_numbers.reverse()\n",
    "print('Reversed List:',prime_numbers)\n"
   ]
  },
  {
   "cell_type": "markdown",
   "id": "86810dca-762c-4e10-b752-b8c0b24725f2",
   "metadata": {},
   "source": [
    "# python list pop()"
   ]
  },
  {
   "cell_type": "code",
   "execution_count": 26,
   "id": "388febb2-1b4c-4757-ae30-117af5647291",
   "metadata": {},
   "outputs": [
    {
     "name": "stdout",
     "output_type": "stream",
     "text": [
      "Removed element: 5\n",
      "updated element: [2, 3, 7]\n"
     ]
    }
   ],
   "source": [
    "prime_numbers = [2,3,5,7]\n",
    "# remove the element at index 2\n",
    "removed_element = prime_numbers.pop(2)\n",
    "print('Removed element:',removed_element)\n",
    "print('updated element:',prime_numbers)\n"
   ]
  },
  {
   "cell_type": "code",
   "execution_count": null,
   "id": "b83fb207-2b5f-4d22-8d18-96a974ac0dce",
   "metadata": {},
   "outputs": [],
   "source": []
  }
 ],
 "metadata": {
  "kernelspec": {
   "display_name": "Python 3 (ipykernel)",
   "language": "python",
   "name": "python3"
  },
  "language_info": {
   "codemirror_mode": {
    "name": "ipython",
    "version": 3
   },
   "file_extension": ".py",
   "mimetype": "text/x-python",
   "name": "python",
   "nbconvert_exporter": "python",
   "pygments_lexer": "ipython3",
   "version": "3.11.7"
  }
 },
 "nbformat": 4,
 "nbformat_minor": 5
}
